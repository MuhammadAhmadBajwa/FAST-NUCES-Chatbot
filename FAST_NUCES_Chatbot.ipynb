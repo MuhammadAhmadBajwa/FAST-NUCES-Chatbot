{
  "cells": [
    {
      "cell_type": "markdown",
      "metadata": {
        "id": "mfK7LhH0gjpW"
      },
      "source": [
        "# 1. Read Web Scrapped Data from Text File and Divide it into chunks\n",
        "\n",
        "\n",
        "**Text File :**\n",
        "*   This WebPage : https://lhr.nu.edu.pk/fsc/programsHome/  contains info. about all the programs of FAST School of ComputingWebPage\n",
        "\n",
        "* Data is scrapped from all the programs and data of each program is saved in separate text file\n",
        "\n",
        "*   Each text file is further divided by  line sperator separating different info about that program\n",
        "\n",
        "**Chunking :**\n",
        "\n",
        "\n",
        "*   Each program data is further divided into 4 to 5 parts and these parts sperated by a line sperator extract these parts based on the splitter and each part is a chunk\n",
        "\n",
        "*   Tag each chunk with the name of that department which is also the name of text file from which it is being extracted\n",
        "\n",
        "\n",
        "\n",
        "\n",
        "\n",
        "\n",
        "\n"
      ]
    },
    {
      "cell_type": "code",
      "execution_count": null,
      "metadata": {
        "collapsed": true,
        "id": "7VYybZd16SQ4"
      },
      "outputs": [],
      "source": [
        "import os\n",
        "# Directory containing  text files\n",
        "directory = \"/content/data\"\n",
        "import pickle\n",
        "# Placeholder for the chunks\n",
        "chunks = []\n",
        "\n",
        "# Loop through each file in the directory\n",
        "for filename in os.listdir(directory):\n",
        "    if filename.endswith(\".txt\"):  # Ensure we are processing only text files\n",
        "        filepath = os.path.join(directory, filename)\n",
        "\n",
        "        # Open and read the file\n",
        "\n",
        "        with open(filepath, 'r') as file:\n",
        "            content = file.read()\n",
        "\n",
        "        # Split the content based on the splitter\n",
        "        parts = content.split(\"--------------------------------------------------------------------------------\")  # Replace \"SPLITTER\" with your actual splitter\n",
        "\n",
        "        # Tag each part(chunk) with the name of the text file (or department name)\n",
        "        for part in parts:\n",
        "            chunk = f\"{filename} {part.strip()}\"\n",
        "            chunks.append(chunk.lower())\n",
        "\n",
        "# Save text chunks to a file using pickle\n",
        "with open('chunks.pkl', 'wb') as f:\n",
        "    pickle.dump(chunks, f)\n"
      ]
    },
    {
      "cell_type": "markdown",
      "metadata": {
        "id": "jURFZ7kJmtaZ"
      },
      "source": [
        "# Chunks Embedding using voyageai\n",
        "\n",
        "*   Voyageai is open source embedding model\n",
        "\n",
        "*  Voyageai api is used to send chunks in api request and in reponse it returns the embedings of these chunks\n",
        "\n",
        "*   Voyageai api has limitations it only allows 3 requests and total of 10000 tokens to send per minute\n",
        "*   So if 10000 tokens are sent in 1 request wait for one minute and then send other 10000 tokens\n",
        "\n",
        "*   So send chunks that contains less a total of 10000 tokens in one request and wait for one minute and then send the other chunks\n",
        "\n",
        "\n",
        "\n",
        "\n",
        "\n",
        "\n",
        "\n"
      ]
    },
    {
      "cell_type": "code",
      "execution_count": null,
      "metadata": {
        "colab": {
          "base_uri": "https://localhost:8080/",
          "height": 255,
          "referenced_widgets": [
            "6793cd4c69414fda837e7529bfb7ef9b",
            "619e558c1aec43c588e406af7682c60c",
            "5623c5316a48460c9d3f454e69220d1a",
            "ba24b163c2b94fc3949840dc09a96eb0",
            "05626c60e5fd4391ab35a5ad7fa0abc0",
            "da2c989d33ab48f7b33d7cb267d14e49",
            "0308f63d2eee4ca3bdab0b8cdf36061e",
            "27a3b7a6eea0462f9168df70815b0585",
            "402fa08e337442d18d5044a5f783411a",
            "53d72f2da7924192b8c527a1722fd697",
            "5391249091a34409a6751b64c47ea136",
            "27a7ad4208724dd4b78471ccdb8fd0f0",
            "8fa139ec67a742d1b25f281a8250baa6",
            "48b7842177984aa8970b2f74f66681e4",
            "53d8ce3630d845248aa700523e5f9e54",
            "ec07bb3d7f29408f825e20545d6111df",
            "312626e8fe544d2bb2afcace4d04577f",
            "c4a70180bf3248e6b43cf7f1da34ac31",
            "738ed9608606496a8556cd3ea38a6367",
            "5399bfb38e81470dace1fec50512836e",
            "3da77041c51e41bcbd91a6dce66c835e",
            "870636aad4b74f629abe03ec413b850c",
            "86fc60ca2a7542adb38a5de8d5ac7efe",
            "14632a4c53e94fd2b465390f3af3fe94",
            "e80135ff508f40999f3d0e5149853143",
            "99cabbe7648c4dea9b94651ac277df13",
            "212dc789e4a642ac89942a32f431b856",
            "53314a65ee7444b9b83dc779db9fd8f1",
            "a31d7b7680c945a699f45acbfacc777f",
            "f2e791c3cbcd4caca149ac28cca88367",
            "dbc7b4787871401983bff4a18d0abceb",
            "fcee2a7b7b564f808d16bd17217f10be",
            "8e101ef3e8824b9b9135ef2973bf0f72"
          ]
        },
        "collapsed": true,
        "id": "qQab79bAUDck",
        "outputId": "6ce2215e-bc06-4300-aa54-3e1b17687b5e"
      },
      "outputs": [
        {
          "name": "stderr",
          "output_type": "stream",
          "text": [
            "/usr/local/lib/python3.10/dist-packages/huggingface_hub/utils/_token.py:89: UserWarning: \n",
            "The secret `HF_TOKEN` does not exist in your Colab secrets.\n",
            "To authenticate with the Hugging Face Hub, create a token in your settings tab (https://huggingface.co/settings/tokens), set it as secret in your Google Colab and restart your session.\n",
            "You will be able to reuse this secret in all of your notebooks.\n",
            "Please note that authentication is recommended but still optional to access public models or datasets.\n",
            "  warnings.warn(\n"
          ]
        },
        {
          "data": {
            "application/vnd.jupyter.widget-view+json": {
              "model_id": "6793cd4c69414fda837e7529bfb7ef9b",
              "version_major": 2,
              "version_minor": 0
            },
            "text/plain": [
              "tokenizer_config.json:   0%|          | 0.00/817 [00:00<?, ?B/s]"
            ]
          },
          "metadata": {},
          "output_type": "display_data"
        },
        {
          "data": {
            "application/vnd.jupyter.widget-view+json": {
              "model_id": "27a7ad4208724dd4b78471ccdb8fd0f0",
              "version_major": 2,
              "version_minor": 0
            },
            "text/plain": [
              "tokenizer.json:   0%|          | 0.00/1.84M [00:00<?, ?B/s]"
            ]
          },
          "metadata": {},
          "output_type": "display_data"
        },
        {
          "data": {
            "application/vnd.jupyter.widget-view+json": {
              "model_id": "86fc60ca2a7542adb38a5de8d5ac7efe",
              "version_major": 2,
              "version_minor": 0
            },
            "text/plain": [
              "special_tokens_map.json:   0%|          | 0.00/687 [00:00<?, ?B/s]"
            ]
          },
          "metadata": {},
          "output_type": "display_data"
        },
        {
          "name": "stderr",
          "output_type": "stream",
          "text": [
            "You are using the default legacy behaviour of the <class 'transformers.models.llama.tokenization_llama_fast.LlamaTokenizerFast'>. This is expected, and simply means that the `legacy` (previous) behavior will be used so nothing changes for you. If you want to use the new behaviour, set `legacy=False`. This should only be set if you understand what it means, and thoroughly read the reason why this was added as explained in https://github.com/huggingface/transformers/pull/24565 - if you loaded a llama tokenizer from a GGUF file you can ignore this message.\n"
          ]
        }
      ],
      "source": [
        "from transformers import AutoTokenizer\n",
        "tokenizer = AutoTokenizer.from_pretrained('voyageai/voyage-large-2-instruct')"
      ]
    },
    {
      "cell_type": "code",
      "execution_count": null,
      "metadata": {
        "id": "MoQ4xio3sgps"
      },
      "outputs": [],
      "source": [
        "# Divide all the chunks in group of chunks where each group contains 10000 tokens\n",
        "\n",
        "token_limit = 9500\n",
        "divided_chunks = []\n",
        "temp_chunks = []\n",
        "token_count = 0\n",
        "for i in range(len(chunks)):\n",
        "  total_tokens = len(tokenizer.tokenize(chunks[i]))\n",
        "  token_count += total_tokens\n",
        "  if token_count < token_limit:\n",
        "      temp_chunks.append(chunks[i])\n",
        "  else :\n",
        "    divided_chunks.append(temp_chunks)\n",
        "    temp_chunks = []\n",
        "    temp_chunks.append(chunks[i])\n",
        "    token_count = total_tokens\n",
        "divided_chunks.append(temp_chunks)"
      ]
    },
    {
      "cell_type": "code",
      "execution_count": null,
      "metadata": {
        "colab": {
          "base_uri": "https://localhost:8080/"
        },
        "id": "3iaQtXhIuVN0",
        "outputId": "f8670601-61fa-4876-ce27-1fb40aaceda5"
      },
      "outputs": [
        {
          "data": {
            "text/plain": [
              "2"
            ]
          },
          "execution_count": 11,
          "metadata": {},
          "output_type": "execute_result"
        }
      ],
      "source": [
        "len(divided_chunks)"
      ]
    },
    {
      "cell_type": "code",
      "execution_count": 3,
      "metadata": {
        "id": "5eC4wFMbSu2B"
      },
      "outputs": [],
      "source": [
        "!pip -q install  voyageai"
      ]
    },
    {
      "cell_type": "code",
      "execution_count": null,
      "metadata": {
        "id": "BEK7bW0F8GGc"
      },
      "outputs": [],
      "source": [
        "import voyageai\n",
        "import time\n",
        "voyageai.api_key = 'pa-lkjkljjhhlkjkljiohiojj'\n",
        "vo = voyageai.Client()\n",
        "embeddings = []\n",
        "for i in range(len(divided_chunks)):\n",
        "  output = vo.embed(divided_chunks[i], model=\"voyage-large-2-instruct\",input_type='document')\n",
        "  embeddings.append(output.embeddings)\n",
        "  if i < (len(divided_chunks) -1) :\n",
        "   # Waiting for one minute\n",
        "   time.sleep(60)\n"
      ]
    },
    {
      "cell_type": "code",
      "execution_count": null,
      "metadata": {
        "id": "cHvHFyWICLhY"
      },
      "outputs": [],
      "source": [
        "import numpy as np\n",
        "new_embeds = []\n",
        "for i in range(len(embeddings)):\n",
        "  for j in range(len(embeddings[i])):\n",
        "       new_embeds.append(embeddings[i][j])\n",
        "new_embeds = np.array(new_embeds)\n",
        "del embeddings\n",
        "del divided_chunks"
      ]
    },
    {
      "cell_type": "code",
      "execution_count": null,
      "metadata": {
        "colab": {
          "base_uri": "https://localhost:8080/"
        },
        "id": "Iv97S-_hELxS",
        "outputId": "6b10e252-a59e-4f71-8710-974002f13279"
      },
      "outputs": [
        {
          "data": {
            "text/plain": [
              "32"
            ]
          },
          "execution_count": 14,
          "metadata": {},
          "output_type": "execute_result"
        }
      ],
      "source": [
        "len(new_embeds)"
      ]
    },
    {
      "cell_type": "code",
      "execution_count": null,
      "metadata": {
        "id": "gfa14ufBILX1"
      },
      "outputs": [],
      "source": [
        "np.save('embeddings.npy', new_embeds)"
      ]
    },
    {
      "cell_type": "code",
      "execution_count": 4,
      "metadata": {
        "colab": {
          "base_uri": "https://localhost:8080/"
        },
        "id": "YT1_C6L3Dfk4",
        "outputId": "977bbc91-face-4fdd-87dd-8d20ad26b94a"
      },
      "outputs": [
        {
          "name": "stdout",
          "output_type": "stream",
          "text": [
            "\u001b[2K   \u001b[90m━━━━━━━━━━━━━━━━━━━━━━━━━━━━━━━━━━━━━━━━\u001b[0m \u001b[32m27.0/27.0 MB\u001b[0m \u001b[31m13.7 MB/s\u001b[0m eta \u001b[36m0:00:00\u001b[0m\n",
            "\u001b[?25h"
          ]
        }
      ],
      "source": [
        "%pip -q install faiss-cpu"
      ]
    },
    {
      "cell_type": "markdown",
      "metadata": {
        "id": "o36eBk7I0BP5"
      },
      "source": [
        "# Similarity Search using faiss\n"
      ]
    },
    {
      "cell_type": "markdown",
      "metadata": {
        "id": "nEYGDLMQWxrJ"
      },
      "source": [
        "Run this Cell and provide a query about Programs in FAST School of Computing"
      ]
    },
    {
      "cell_type": "code",
      "execution_count": null,
      "metadata": {
        "colab": {
          "base_uri": "https://localhost:8080/"
        },
        "id": "o3bnw8OQDT7y",
        "outputId": "0dc99f20-5992-4a35-b490-44f40272fbf3"
      },
      "outputs": [
        {
          "name": "stdout",
          "output_type": "stream",
          "text": [
            "ask Query : Give the list of courses of CS 7th semester\n",
            "Indices of nearest neighbors: [[20 29  6 28 11]]\n",
            "Distances to nearest neighbors: [[0.49339908 0.5538664  0.57634044 0.65144575 0.6573378 ]]\n"
          ]
        }
      ],
      "source": [
        "import faiss\n",
        "query = input(\"ask Query : \")\n",
        "# Function to embed user query\n",
        "def embed_query(query):\n",
        "    query_embedding = vo.embed([query.lower()], model=\"voyage-large-2-instruct\")\n",
        "    return np.array(query_embedding.embeddings)\n",
        "embedded_query = embed_query(query)\n",
        "\n",
        "# Create a FAISS index\n",
        "embedding_dimension = new_embeds.shape[1]\n",
        "index = faiss.IndexFlatL2(embedding_dimension)\n",
        "index.add(new_embeds)\n",
        "\n",
        "k = 5  # Number of nearest neighbors to search for\n",
        "D, I = index.search(embedded_query, k)\n",
        "\n",
        "\n",
        "# Output the results\n",
        "print(\"Indices of nearest neighbors:\", I)\n",
        "print(\"Distances to nearest neighbors:\",D)"
      ]
    },
    {
      "cell_type": "code",
      "execution_count": null,
      "metadata": {
        "id": "sxTb6uGSfnc7"
      },
      "outputs": [],
      "source": [
        "prompt = \"Given the context : \\n\""
      ]
    },
    {
      "cell_type": "markdown",
      "metadata": {
        "id": "tk7VhzDN0SD2"
      },
      "source": [
        "# Prepare Prompt and send to LLM model to get response"
      ]
    },
    {
      "cell_type": "code",
      "execution_count": null,
      "metadata": {
        "id": "hKODieOoIwgj"
      },
      "outputs": [],
      "source": [
        "k = 5  # Number of nearest neighbors\n",
        "for i in range(k):\n",
        "    nearest_index = I[0][i]  # Assuming you're interested in the first set of indices (for the first query result)\n",
        "    nearest_text = chunks[nearest_index]  # Assuming cleaned_list contains your text data\n",
        "    # print(f\"{i} Name {nearest_text}\")\n",
        "    prompt = prompt + nearest_text\n",
        "\n"
      ]
    },
    {
      "cell_type": "code",
      "execution_count": null,
      "metadata": {
        "id": "PajI9PspJEz-"
      },
      "outputs": [],
      "source": [
        "prompt = prompt + \"\\n\\nAnswer this Question in an intelligent, concise and in a better format: \"+query"
      ]
    },
    {
      "cell_type": "code",
      "execution_count": null,
      "metadata": {
        "colab": {
          "base_uri": "https://localhost:8080/",
          "height": 243
        },
        "id": "JErBAL-fIVoU",
        "outputId": "0318dcaa-1b44-4b49-c098-30efd61f146b"
      },
      "outputs": [
        {
          "name": "stdout",
          "output_type": "stream",
          "text": [
            "## CS 7th Semester Courses:\n",
            "\n",
            "| Sr. No. | Course Name | Credit Hours |\n",
            "|---|---|---|\n",
            "| 1 | CS4091 Final Year Project - I | 0+3 |\n",
            "| 2 | CS3002 Information Security | 3+0 |\n",
            "| 3 | CSxxxx CS Elective - IV | 3+0 |\n",
            "| 4 | CS4001 Professional Practices | 3+0 |\n",
            "| 5 | CS4031 Compiler Construction | 3+0 |\n",
            "| 6 | CS4081 Parallel and Distributed Computing | 3+0 |\n",
            "\n",
            "**Total:** 15 + 3 \n",
            "\n"
          ]
        }
      ],
      "source": [
        "import google.generativeai as genai\n",
        "genai.configure(api_key='AIjkhjjkhjkhkhjk')\n",
        "\n",
        "\n",
        "model = genai.GenerativeModel(model_name=\"gemini-1.5-flash\")\n",
        "response = model.generate_content(prompt)\n",
        "print(response.text)"
      ]
    },
    {
      "cell_type": "markdown",
      "metadata": {
        "id": "T42uS9_QUs-r"
      },
      "source": [
        "# Complete Code in One Cell"
      ]
    },
    {
      "cell_type": "code",
      "execution_count": 8,
      "metadata": {
        "colab": {
          "base_uri": "https://localhost:8080/",
          "height": 243
        },
        "id": "Hn2eF3DnaTzN",
        "outputId": "1a4da54c-14a9-4831-e43b-aaa8fcc579b8"
      },
      "outputs": [
        {
          "name": "stdout",
          "output_type": "stream",
          "text": [
            "ask Query : BS CS 7th Semester Credit Hours\n",
            "## BS CS 7th Semester Credit Hours:\n",
            "\n",
            "| Sr. No. | Course Name | Credit Hours |\n",
            "|---|---|---|\n",
            "| 1 | CS4091 Final Year Project - I | 0+3 |\n",
            "| 2 | CS3002 Information Security | 3+0 |\n",
            "| 3 | CSxxxx CS Elective - IV | 3+0 |\n",
            "| 4 | CS4001 Professional Practices | 3+0 |\n",
            "| 5 | CS4031 Compiler Construction | 3+0 |\n",
            "| 6 | CS4081 Parallel and Distributed Computing | 3+0 | \n",
            "| **Total** |  | **15 + 3** | \n",
            "\n"
          ]
        }
      ],
      "source": [
        "import google.generativeai as genai\n",
        "import faiss\n",
        "import voyageai\n",
        "import numpy as np\n",
        "import pickle\n",
        "voyageai.api_key = 'pa-kjhjkhjkhjkhjk'    # get your api key from  https://dash.voyageai.com/\n",
        "vo = voyageai.Client()\n",
        "genai.configure(api_key='AIlkjkljkljkljklj')     # get your api key from https://aistudio.google.com/app/apikey\n",
        "model = genai.GenerativeModel(model_name=\"gemini-1.5-flash\")\n",
        "\n",
        "\n",
        "def embed_query(query):\n",
        "    query_embedding = vo.embed([query.lower()], model=\"voyage-large-2-instruct\")\n",
        "    return np.array(query_embedding.embeddings)\n",
        "\n",
        "def get_response(query,embeddings,chunks):\n",
        "  prompt = \"Given the context : \\n\"\n",
        "  # Function to embed user query\n",
        "  embedded_query = embed_query(query)\n",
        "  # Create a FAISS index\n",
        "  embedding_dimension = embeddings.shape[1]\n",
        "  index = faiss.IndexFlatL2(embedding_dimension)\n",
        "  index.add(embeddings)\n",
        "\n",
        "  k = 10  # Number of nearest neighbors to search for\n",
        "  D, I = index.search(embedded_query, k)\n",
        "  for i in range(k):\n",
        "    nearest_index = I[0][i]\n",
        "    nearest_text = chunks[nearest_index]\n",
        "    prompt = prompt + nearest_text\n",
        "  prompt = prompt + \"\\n\\nAnswer this Question in an intelligent, concise way and a better format based on the above provided FAST School of Computing data : \"+query\n",
        "\n",
        "  response = model.generate_content(prompt)\n",
        "  return response.text\n",
        "\n",
        "# Function to load embeddings and text chunks from files\n",
        "def load_data():\n",
        "    embeddings = np.load('embeddings.npy')\n",
        "    with open('chunks.pkl', 'rb') as f:\n",
        "        chunks = pickle.load(f)\n",
        "    return embeddings, chunks\n",
        "\n",
        "if __name__ == \"__main__\":\n",
        "  # Load embeddings and chunks\n",
        "  embeddings, chunks = load_data()\n",
        "  query = input(\"ask Query : \")\n",
        "  response = get_response(query,embeddings,chunks)\n",
        "  print(response)\n",
        "\n"
      ]
    },
    {
      "cell_type": "code",
      "execution_count": null,
      "metadata": {
        "id": "HGjjj4sscoMO"
      },
      "outputs": [],
      "source": []
    }
  ],
  "metadata": {
    "colab": {
      "provenance": []
    },
    "kernelspec": {
      "display_name": "Python 3",
      "name": "python3"
    },
    "language_info": {
      "name": "python"
    },
    "widgets": {
      "application/vnd.jupyter.widget-state+json": {
        "0308f63d2eee4ca3bdab0b8cdf36061e": {
          "model_module": "@jupyter-widgets/controls",
          "model_module_version": "1.5.0",
          "model_name": "DescriptionStyleModel",
          "state": {
            "_model_module": "@jupyter-widgets/controls",
            "_model_module_version": "1.5.0",
            "_model_name": "DescriptionStyleModel",
            "_view_count": null,
            "_view_module": "@jupyter-widgets/base",
            "_view_module_version": "1.2.0",
            "_view_name": "StyleView",
            "description_width": ""
          }
        },
        "05626c60e5fd4391ab35a5ad7fa0abc0": {
          "model_module": "@jupyter-widgets/base",
          "model_module_version": "1.2.0",
          "model_name": "LayoutModel",
          "state": {
            "_model_module": "@jupyter-widgets/base",
            "_model_module_version": "1.2.0",
            "_model_name": "LayoutModel",
            "_view_count": null,
            "_view_module": "@jupyter-widgets/base",
            "_view_module_version": "1.2.0",
            "_view_name": "LayoutView",
            "align_content": null,
            "align_items": null,
            "align_self": null,
            "border": null,
            "bottom": null,
            "display": null,
            "flex": null,
            "flex_flow": null,
            "grid_area": null,
            "grid_auto_columns": null,
            "grid_auto_flow": null,
            "grid_auto_rows": null,
            "grid_column": null,
            "grid_gap": null,
            "grid_row": null,
            "grid_template_areas": null,
            "grid_template_columns": null,
            "grid_template_rows": null,
            "height": null,
            "justify_content": null,
            "justify_items": null,
            "left": null,
            "margin": null,
            "max_height": null,
            "max_width": null,
            "min_height": null,
            "min_width": null,
            "object_fit": null,
            "object_position": null,
            "order": null,
            "overflow": null,
            "overflow_x": null,
            "overflow_y": null,
            "padding": null,
            "right": null,
            "top": null,
            "visibility": null,
            "width": null
          }
        },
        "14632a4c53e94fd2b465390f3af3fe94": {
          "model_module": "@jupyter-widgets/controls",
          "model_module_version": "1.5.0",
          "model_name": "HTMLModel",
          "state": {
            "_dom_classes": [],
            "_model_module": "@jupyter-widgets/controls",
            "_model_module_version": "1.5.0",
            "_model_name": "HTMLModel",
            "_view_count": null,
            "_view_module": "@jupyter-widgets/controls",
            "_view_module_version": "1.5.0",
            "_view_name": "HTMLView",
            "description": "",
            "description_tooltip": null,
            "layout": "IPY_MODEL_53314a65ee7444b9b83dc779db9fd8f1",
            "placeholder": "​",
            "style": "IPY_MODEL_a31d7b7680c945a699f45acbfacc777f",
            "value": "special_tokens_map.json: 100%"
          }
        },
        "212dc789e4a642ac89942a32f431b856": {
          "model_module": "@jupyter-widgets/base",
          "model_module_version": "1.2.0",
          "model_name": "LayoutModel",
          "state": {
            "_model_module": "@jupyter-widgets/base",
            "_model_module_version": "1.2.0",
            "_model_name": "LayoutModel",
            "_view_count": null,
            "_view_module": "@jupyter-widgets/base",
            "_view_module_version": "1.2.0",
            "_view_name": "LayoutView",
            "align_content": null,
            "align_items": null,
            "align_self": null,
            "border": null,
            "bottom": null,
            "display": null,
            "flex": null,
            "flex_flow": null,
            "grid_area": null,
            "grid_auto_columns": null,
            "grid_auto_flow": null,
            "grid_auto_rows": null,
            "grid_column": null,
            "grid_gap": null,
            "grid_row": null,
            "grid_template_areas": null,
            "grid_template_columns": null,
            "grid_template_rows": null,
            "height": null,
            "justify_content": null,
            "justify_items": null,
            "left": null,
            "margin": null,
            "max_height": null,
            "max_width": null,
            "min_height": null,
            "min_width": null,
            "object_fit": null,
            "object_position": null,
            "order": null,
            "overflow": null,
            "overflow_x": null,
            "overflow_y": null,
            "padding": null,
            "right": null,
            "top": null,
            "visibility": null,
            "width": null
          }
        },
        "27a3b7a6eea0462f9168df70815b0585": {
          "model_module": "@jupyter-widgets/base",
          "model_module_version": "1.2.0",
          "model_name": "LayoutModel",
          "state": {
            "_model_module": "@jupyter-widgets/base",
            "_model_module_version": "1.2.0",
            "_model_name": "LayoutModel",
            "_view_count": null,
            "_view_module": "@jupyter-widgets/base",
            "_view_module_version": "1.2.0",
            "_view_name": "LayoutView",
            "align_content": null,
            "align_items": null,
            "align_self": null,
            "border": null,
            "bottom": null,
            "display": null,
            "flex": null,
            "flex_flow": null,
            "grid_area": null,
            "grid_auto_columns": null,
            "grid_auto_flow": null,
            "grid_auto_rows": null,
            "grid_column": null,
            "grid_gap": null,
            "grid_row": null,
            "grid_template_areas": null,
            "grid_template_columns": null,
            "grid_template_rows": null,
            "height": null,
            "justify_content": null,
            "justify_items": null,
            "left": null,
            "margin": null,
            "max_height": null,
            "max_width": null,
            "min_height": null,
            "min_width": null,
            "object_fit": null,
            "object_position": null,
            "order": null,
            "overflow": null,
            "overflow_x": null,
            "overflow_y": null,
            "padding": null,
            "right": null,
            "top": null,
            "visibility": null,
            "width": null
          }
        },
        "27a7ad4208724dd4b78471ccdb8fd0f0": {
          "model_module": "@jupyter-widgets/controls",
          "model_module_version": "1.5.0",
          "model_name": "HBoxModel",
          "state": {
            "_dom_classes": [],
            "_model_module": "@jupyter-widgets/controls",
            "_model_module_version": "1.5.0",
            "_model_name": "HBoxModel",
            "_view_count": null,
            "_view_module": "@jupyter-widgets/controls",
            "_view_module_version": "1.5.0",
            "_view_name": "HBoxView",
            "box_style": "",
            "children": [
              "IPY_MODEL_8fa139ec67a742d1b25f281a8250baa6",
              "IPY_MODEL_48b7842177984aa8970b2f74f66681e4",
              "IPY_MODEL_53d8ce3630d845248aa700523e5f9e54"
            ],
            "layout": "IPY_MODEL_ec07bb3d7f29408f825e20545d6111df"
          }
        },
        "312626e8fe544d2bb2afcace4d04577f": {
          "model_module": "@jupyter-widgets/base",
          "model_module_version": "1.2.0",
          "model_name": "LayoutModel",
          "state": {
            "_model_module": "@jupyter-widgets/base",
            "_model_module_version": "1.2.0",
            "_model_name": "LayoutModel",
            "_view_count": null,
            "_view_module": "@jupyter-widgets/base",
            "_view_module_version": "1.2.0",
            "_view_name": "LayoutView",
            "align_content": null,
            "align_items": null,
            "align_self": null,
            "border": null,
            "bottom": null,
            "display": null,
            "flex": null,
            "flex_flow": null,
            "grid_area": null,
            "grid_auto_columns": null,
            "grid_auto_flow": null,
            "grid_auto_rows": null,
            "grid_column": null,
            "grid_gap": null,
            "grid_row": null,
            "grid_template_areas": null,
            "grid_template_columns": null,
            "grid_template_rows": null,
            "height": null,
            "justify_content": null,
            "justify_items": null,
            "left": null,
            "margin": null,
            "max_height": null,
            "max_width": null,
            "min_height": null,
            "min_width": null,
            "object_fit": null,
            "object_position": null,
            "order": null,
            "overflow": null,
            "overflow_x": null,
            "overflow_y": null,
            "padding": null,
            "right": null,
            "top": null,
            "visibility": null,
            "width": null
          }
        },
        "3da77041c51e41bcbd91a6dce66c835e": {
          "model_module": "@jupyter-widgets/base",
          "model_module_version": "1.2.0",
          "model_name": "LayoutModel",
          "state": {
            "_model_module": "@jupyter-widgets/base",
            "_model_module_version": "1.2.0",
            "_model_name": "LayoutModel",
            "_view_count": null,
            "_view_module": "@jupyter-widgets/base",
            "_view_module_version": "1.2.0",
            "_view_name": "LayoutView",
            "align_content": null,
            "align_items": null,
            "align_self": null,
            "border": null,
            "bottom": null,
            "display": null,
            "flex": null,
            "flex_flow": null,
            "grid_area": null,
            "grid_auto_columns": null,
            "grid_auto_flow": null,
            "grid_auto_rows": null,
            "grid_column": null,
            "grid_gap": null,
            "grid_row": null,
            "grid_template_areas": null,
            "grid_template_columns": null,
            "grid_template_rows": null,
            "height": null,
            "justify_content": null,
            "justify_items": null,
            "left": null,
            "margin": null,
            "max_height": null,
            "max_width": null,
            "min_height": null,
            "min_width": null,
            "object_fit": null,
            "object_position": null,
            "order": null,
            "overflow": null,
            "overflow_x": null,
            "overflow_y": null,
            "padding": null,
            "right": null,
            "top": null,
            "visibility": null,
            "width": null
          }
        },
        "402fa08e337442d18d5044a5f783411a": {
          "model_module": "@jupyter-widgets/controls",
          "model_module_version": "1.5.0",
          "model_name": "ProgressStyleModel",
          "state": {
            "_model_module": "@jupyter-widgets/controls",
            "_model_module_version": "1.5.0",
            "_model_name": "ProgressStyleModel",
            "_view_count": null,
            "_view_module": "@jupyter-widgets/base",
            "_view_module_version": "1.2.0",
            "_view_name": "StyleView",
            "bar_color": null,
            "description_width": ""
          }
        },
        "48b7842177984aa8970b2f74f66681e4": {
          "model_module": "@jupyter-widgets/controls",
          "model_module_version": "1.5.0",
          "model_name": "FloatProgressModel",
          "state": {
            "_dom_classes": [],
            "_model_module": "@jupyter-widgets/controls",
            "_model_module_version": "1.5.0",
            "_model_name": "FloatProgressModel",
            "_view_count": null,
            "_view_module": "@jupyter-widgets/controls",
            "_view_module_version": "1.5.0",
            "_view_name": "ProgressView",
            "bar_style": "success",
            "description": "",
            "description_tooltip": null,
            "layout": "IPY_MODEL_738ed9608606496a8556cd3ea38a6367",
            "max": 1843130,
            "min": 0,
            "orientation": "horizontal",
            "style": "IPY_MODEL_5399bfb38e81470dace1fec50512836e",
            "value": 1843130
          }
        },
        "53314a65ee7444b9b83dc779db9fd8f1": {
          "model_module": "@jupyter-widgets/base",
          "model_module_version": "1.2.0",
          "model_name": "LayoutModel",
          "state": {
            "_model_module": "@jupyter-widgets/base",
            "_model_module_version": "1.2.0",
            "_model_name": "LayoutModel",
            "_view_count": null,
            "_view_module": "@jupyter-widgets/base",
            "_view_module_version": "1.2.0",
            "_view_name": "LayoutView",
            "align_content": null,
            "align_items": null,
            "align_self": null,
            "border": null,
            "bottom": null,
            "display": null,
            "flex": null,
            "flex_flow": null,
            "grid_area": null,
            "grid_auto_columns": null,
            "grid_auto_flow": null,
            "grid_auto_rows": null,
            "grid_column": null,
            "grid_gap": null,
            "grid_row": null,
            "grid_template_areas": null,
            "grid_template_columns": null,
            "grid_template_rows": null,
            "height": null,
            "justify_content": null,
            "justify_items": null,
            "left": null,
            "margin": null,
            "max_height": null,
            "max_width": null,
            "min_height": null,
            "min_width": null,
            "object_fit": null,
            "object_position": null,
            "order": null,
            "overflow": null,
            "overflow_x": null,
            "overflow_y": null,
            "padding": null,
            "right": null,
            "top": null,
            "visibility": null,
            "width": null
          }
        },
        "5391249091a34409a6751b64c47ea136": {
          "model_module": "@jupyter-widgets/controls",
          "model_module_version": "1.5.0",
          "model_name": "DescriptionStyleModel",
          "state": {
            "_model_module": "@jupyter-widgets/controls",
            "_model_module_version": "1.5.0",
            "_model_name": "DescriptionStyleModel",
            "_view_count": null,
            "_view_module": "@jupyter-widgets/base",
            "_view_module_version": "1.2.0",
            "_view_name": "StyleView",
            "description_width": ""
          }
        },
        "5399bfb38e81470dace1fec50512836e": {
          "model_module": "@jupyter-widgets/controls",
          "model_module_version": "1.5.0",
          "model_name": "ProgressStyleModel",
          "state": {
            "_model_module": "@jupyter-widgets/controls",
            "_model_module_version": "1.5.0",
            "_model_name": "ProgressStyleModel",
            "_view_count": null,
            "_view_module": "@jupyter-widgets/base",
            "_view_module_version": "1.2.0",
            "_view_name": "StyleView",
            "bar_color": null,
            "description_width": ""
          }
        },
        "53d72f2da7924192b8c527a1722fd697": {
          "model_module": "@jupyter-widgets/base",
          "model_module_version": "1.2.0",
          "model_name": "LayoutModel",
          "state": {
            "_model_module": "@jupyter-widgets/base",
            "_model_module_version": "1.2.0",
            "_model_name": "LayoutModel",
            "_view_count": null,
            "_view_module": "@jupyter-widgets/base",
            "_view_module_version": "1.2.0",
            "_view_name": "LayoutView",
            "align_content": null,
            "align_items": null,
            "align_self": null,
            "border": null,
            "bottom": null,
            "display": null,
            "flex": null,
            "flex_flow": null,
            "grid_area": null,
            "grid_auto_columns": null,
            "grid_auto_flow": null,
            "grid_auto_rows": null,
            "grid_column": null,
            "grid_gap": null,
            "grid_row": null,
            "grid_template_areas": null,
            "grid_template_columns": null,
            "grid_template_rows": null,
            "height": null,
            "justify_content": null,
            "justify_items": null,
            "left": null,
            "margin": null,
            "max_height": null,
            "max_width": null,
            "min_height": null,
            "min_width": null,
            "object_fit": null,
            "object_position": null,
            "order": null,
            "overflow": null,
            "overflow_x": null,
            "overflow_y": null,
            "padding": null,
            "right": null,
            "top": null,
            "visibility": null,
            "width": null
          }
        },
        "53d8ce3630d845248aa700523e5f9e54": {
          "model_module": "@jupyter-widgets/controls",
          "model_module_version": "1.5.0",
          "model_name": "HTMLModel",
          "state": {
            "_dom_classes": [],
            "_model_module": "@jupyter-widgets/controls",
            "_model_module_version": "1.5.0",
            "_model_name": "HTMLModel",
            "_view_count": null,
            "_view_module": "@jupyter-widgets/controls",
            "_view_module_version": "1.5.0",
            "_view_name": "HTMLView",
            "description": "",
            "description_tooltip": null,
            "layout": "IPY_MODEL_3da77041c51e41bcbd91a6dce66c835e",
            "placeholder": "​",
            "style": "IPY_MODEL_870636aad4b74f629abe03ec413b850c",
            "value": " 1.84M/1.84M [00:00&lt;00:00, 5.09MB/s]"
          }
        },
        "5623c5316a48460c9d3f454e69220d1a": {
          "model_module": "@jupyter-widgets/controls",
          "model_module_version": "1.5.0",
          "model_name": "FloatProgressModel",
          "state": {
            "_dom_classes": [],
            "_model_module": "@jupyter-widgets/controls",
            "_model_module_version": "1.5.0",
            "_model_name": "FloatProgressModel",
            "_view_count": null,
            "_view_module": "@jupyter-widgets/controls",
            "_view_module_version": "1.5.0",
            "_view_name": "ProgressView",
            "bar_style": "success",
            "description": "",
            "description_tooltip": null,
            "layout": "IPY_MODEL_27a3b7a6eea0462f9168df70815b0585",
            "max": 817,
            "min": 0,
            "orientation": "horizontal",
            "style": "IPY_MODEL_402fa08e337442d18d5044a5f783411a",
            "value": 817
          }
        },
        "619e558c1aec43c588e406af7682c60c": {
          "model_module": "@jupyter-widgets/controls",
          "model_module_version": "1.5.0",
          "model_name": "HTMLModel",
          "state": {
            "_dom_classes": [],
            "_model_module": "@jupyter-widgets/controls",
            "_model_module_version": "1.5.0",
            "_model_name": "HTMLModel",
            "_view_count": null,
            "_view_module": "@jupyter-widgets/controls",
            "_view_module_version": "1.5.0",
            "_view_name": "HTMLView",
            "description": "",
            "description_tooltip": null,
            "layout": "IPY_MODEL_da2c989d33ab48f7b33d7cb267d14e49",
            "placeholder": "​",
            "style": "IPY_MODEL_0308f63d2eee4ca3bdab0b8cdf36061e",
            "value": "tokenizer_config.json: 100%"
          }
        },
        "6793cd4c69414fda837e7529bfb7ef9b": {
          "model_module": "@jupyter-widgets/controls",
          "model_module_version": "1.5.0",
          "model_name": "HBoxModel",
          "state": {
            "_dom_classes": [],
            "_model_module": "@jupyter-widgets/controls",
            "_model_module_version": "1.5.0",
            "_model_name": "HBoxModel",
            "_view_count": null,
            "_view_module": "@jupyter-widgets/controls",
            "_view_module_version": "1.5.0",
            "_view_name": "HBoxView",
            "box_style": "",
            "children": [
              "IPY_MODEL_619e558c1aec43c588e406af7682c60c",
              "IPY_MODEL_5623c5316a48460c9d3f454e69220d1a",
              "IPY_MODEL_ba24b163c2b94fc3949840dc09a96eb0"
            ],
            "layout": "IPY_MODEL_05626c60e5fd4391ab35a5ad7fa0abc0"
          }
        },
        "738ed9608606496a8556cd3ea38a6367": {
          "model_module": "@jupyter-widgets/base",
          "model_module_version": "1.2.0",
          "model_name": "LayoutModel",
          "state": {
            "_model_module": "@jupyter-widgets/base",
            "_model_module_version": "1.2.0",
            "_model_name": "LayoutModel",
            "_view_count": null,
            "_view_module": "@jupyter-widgets/base",
            "_view_module_version": "1.2.0",
            "_view_name": "LayoutView",
            "align_content": null,
            "align_items": null,
            "align_self": null,
            "border": null,
            "bottom": null,
            "display": null,
            "flex": null,
            "flex_flow": null,
            "grid_area": null,
            "grid_auto_columns": null,
            "grid_auto_flow": null,
            "grid_auto_rows": null,
            "grid_column": null,
            "grid_gap": null,
            "grid_row": null,
            "grid_template_areas": null,
            "grid_template_columns": null,
            "grid_template_rows": null,
            "height": null,
            "justify_content": null,
            "justify_items": null,
            "left": null,
            "margin": null,
            "max_height": null,
            "max_width": null,
            "min_height": null,
            "min_width": null,
            "object_fit": null,
            "object_position": null,
            "order": null,
            "overflow": null,
            "overflow_x": null,
            "overflow_y": null,
            "padding": null,
            "right": null,
            "top": null,
            "visibility": null,
            "width": null
          }
        },
        "86fc60ca2a7542adb38a5de8d5ac7efe": {
          "model_module": "@jupyter-widgets/controls",
          "model_module_version": "1.5.0",
          "model_name": "HBoxModel",
          "state": {
            "_dom_classes": [],
            "_model_module": "@jupyter-widgets/controls",
            "_model_module_version": "1.5.0",
            "_model_name": "HBoxModel",
            "_view_count": null,
            "_view_module": "@jupyter-widgets/controls",
            "_view_module_version": "1.5.0",
            "_view_name": "HBoxView",
            "box_style": "",
            "children": [
              "IPY_MODEL_14632a4c53e94fd2b465390f3af3fe94",
              "IPY_MODEL_e80135ff508f40999f3d0e5149853143",
              "IPY_MODEL_99cabbe7648c4dea9b94651ac277df13"
            ],
            "layout": "IPY_MODEL_212dc789e4a642ac89942a32f431b856"
          }
        },
        "870636aad4b74f629abe03ec413b850c": {
          "model_module": "@jupyter-widgets/controls",
          "model_module_version": "1.5.0",
          "model_name": "DescriptionStyleModel",
          "state": {
            "_model_module": "@jupyter-widgets/controls",
            "_model_module_version": "1.5.0",
            "_model_name": "DescriptionStyleModel",
            "_view_count": null,
            "_view_module": "@jupyter-widgets/base",
            "_view_module_version": "1.2.0",
            "_view_name": "StyleView",
            "description_width": ""
          }
        },
        "8e101ef3e8824b9b9135ef2973bf0f72": {
          "model_module": "@jupyter-widgets/controls",
          "model_module_version": "1.5.0",
          "model_name": "DescriptionStyleModel",
          "state": {
            "_model_module": "@jupyter-widgets/controls",
            "_model_module_version": "1.5.0",
            "_model_name": "DescriptionStyleModel",
            "_view_count": null,
            "_view_module": "@jupyter-widgets/base",
            "_view_module_version": "1.2.0",
            "_view_name": "StyleView",
            "description_width": ""
          }
        },
        "8fa139ec67a742d1b25f281a8250baa6": {
          "model_module": "@jupyter-widgets/controls",
          "model_module_version": "1.5.0",
          "model_name": "HTMLModel",
          "state": {
            "_dom_classes": [],
            "_model_module": "@jupyter-widgets/controls",
            "_model_module_version": "1.5.0",
            "_model_name": "HTMLModel",
            "_view_count": null,
            "_view_module": "@jupyter-widgets/controls",
            "_view_module_version": "1.5.0",
            "_view_name": "HTMLView",
            "description": "",
            "description_tooltip": null,
            "layout": "IPY_MODEL_312626e8fe544d2bb2afcace4d04577f",
            "placeholder": "​",
            "style": "IPY_MODEL_c4a70180bf3248e6b43cf7f1da34ac31",
            "value": "tokenizer.json: 100%"
          }
        },
        "99cabbe7648c4dea9b94651ac277df13": {
          "model_module": "@jupyter-widgets/controls",
          "model_module_version": "1.5.0",
          "model_name": "HTMLModel",
          "state": {
            "_dom_classes": [],
            "_model_module": "@jupyter-widgets/controls",
            "_model_module_version": "1.5.0",
            "_model_name": "HTMLModel",
            "_view_count": null,
            "_view_module": "@jupyter-widgets/controls",
            "_view_module_version": "1.5.0",
            "_view_name": "HTMLView",
            "description": "",
            "description_tooltip": null,
            "layout": "IPY_MODEL_fcee2a7b7b564f808d16bd17217f10be",
            "placeholder": "​",
            "style": "IPY_MODEL_8e101ef3e8824b9b9135ef2973bf0f72",
            "value": " 687/687 [00:00&lt;00:00, 9.61kB/s]"
          }
        },
        "a31d7b7680c945a699f45acbfacc777f": {
          "model_module": "@jupyter-widgets/controls",
          "model_module_version": "1.5.0",
          "model_name": "DescriptionStyleModel",
          "state": {
            "_model_module": "@jupyter-widgets/controls",
            "_model_module_version": "1.5.0",
            "_model_name": "DescriptionStyleModel",
            "_view_count": null,
            "_view_module": "@jupyter-widgets/base",
            "_view_module_version": "1.2.0",
            "_view_name": "StyleView",
            "description_width": ""
          }
        },
        "ba24b163c2b94fc3949840dc09a96eb0": {
          "model_module": "@jupyter-widgets/controls",
          "model_module_version": "1.5.0",
          "model_name": "HTMLModel",
          "state": {
            "_dom_classes": [],
            "_model_module": "@jupyter-widgets/controls",
            "_model_module_version": "1.5.0",
            "_model_name": "HTMLModel",
            "_view_count": null,
            "_view_module": "@jupyter-widgets/controls",
            "_view_module_version": "1.5.0",
            "_view_name": "HTMLView",
            "description": "",
            "description_tooltip": null,
            "layout": "IPY_MODEL_53d72f2da7924192b8c527a1722fd697",
            "placeholder": "​",
            "style": "IPY_MODEL_5391249091a34409a6751b64c47ea136",
            "value": " 817/817 [00:00&lt;00:00, 22.5kB/s]"
          }
        },
        "c4a70180bf3248e6b43cf7f1da34ac31": {
          "model_module": "@jupyter-widgets/controls",
          "model_module_version": "1.5.0",
          "model_name": "DescriptionStyleModel",
          "state": {
            "_model_module": "@jupyter-widgets/controls",
            "_model_module_version": "1.5.0",
            "_model_name": "DescriptionStyleModel",
            "_view_count": null,
            "_view_module": "@jupyter-widgets/base",
            "_view_module_version": "1.2.0",
            "_view_name": "StyleView",
            "description_width": ""
          }
        },
        "da2c989d33ab48f7b33d7cb267d14e49": {
          "model_module": "@jupyter-widgets/base",
          "model_module_version": "1.2.0",
          "model_name": "LayoutModel",
          "state": {
            "_model_module": "@jupyter-widgets/base",
            "_model_module_version": "1.2.0",
            "_model_name": "LayoutModel",
            "_view_count": null,
            "_view_module": "@jupyter-widgets/base",
            "_view_module_version": "1.2.0",
            "_view_name": "LayoutView",
            "align_content": null,
            "align_items": null,
            "align_self": null,
            "border": null,
            "bottom": null,
            "display": null,
            "flex": null,
            "flex_flow": null,
            "grid_area": null,
            "grid_auto_columns": null,
            "grid_auto_flow": null,
            "grid_auto_rows": null,
            "grid_column": null,
            "grid_gap": null,
            "grid_row": null,
            "grid_template_areas": null,
            "grid_template_columns": null,
            "grid_template_rows": null,
            "height": null,
            "justify_content": null,
            "justify_items": null,
            "left": null,
            "margin": null,
            "max_height": null,
            "max_width": null,
            "min_height": null,
            "min_width": null,
            "object_fit": null,
            "object_position": null,
            "order": null,
            "overflow": null,
            "overflow_x": null,
            "overflow_y": null,
            "padding": null,
            "right": null,
            "top": null,
            "visibility": null,
            "width": null
          }
        },
        "dbc7b4787871401983bff4a18d0abceb": {
          "model_module": "@jupyter-widgets/controls",
          "model_module_version": "1.5.0",
          "model_name": "ProgressStyleModel",
          "state": {
            "_model_module": "@jupyter-widgets/controls",
            "_model_module_version": "1.5.0",
            "_model_name": "ProgressStyleModel",
            "_view_count": null,
            "_view_module": "@jupyter-widgets/base",
            "_view_module_version": "1.2.0",
            "_view_name": "StyleView",
            "bar_color": null,
            "description_width": ""
          }
        },
        "e80135ff508f40999f3d0e5149853143": {
          "model_module": "@jupyter-widgets/controls",
          "model_module_version": "1.5.0",
          "model_name": "FloatProgressModel",
          "state": {
            "_dom_classes": [],
            "_model_module": "@jupyter-widgets/controls",
            "_model_module_version": "1.5.0",
            "_model_name": "FloatProgressModel",
            "_view_count": null,
            "_view_module": "@jupyter-widgets/controls",
            "_view_module_version": "1.5.0",
            "_view_name": "ProgressView",
            "bar_style": "success",
            "description": "",
            "description_tooltip": null,
            "layout": "IPY_MODEL_f2e791c3cbcd4caca149ac28cca88367",
            "max": 687,
            "min": 0,
            "orientation": "horizontal",
            "style": "IPY_MODEL_dbc7b4787871401983bff4a18d0abceb",
            "value": 687
          }
        },
        "ec07bb3d7f29408f825e20545d6111df": {
          "model_module": "@jupyter-widgets/base",
          "model_module_version": "1.2.0",
          "model_name": "LayoutModel",
          "state": {
            "_model_module": "@jupyter-widgets/base",
            "_model_module_version": "1.2.0",
            "_model_name": "LayoutModel",
            "_view_count": null,
            "_view_module": "@jupyter-widgets/base",
            "_view_module_version": "1.2.0",
            "_view_name": "LayoutView",
            "align_content": null,
            "align_items": null,
            "align_self": null,
            "border": null,
            "bottom": null,
            "display": null,
            "flex": null,
            "flex_flow": null,
            "grid_area": null,
            "grid_auto_columns": null,
            "grid_auto_flow": null,
            "grid_auto_rows": null,
            "grid_column": null,
            "grid_gap": null,
            "grid_row": null,
            "grid_template_areas": null,
            "grid_template_columns": null,
            "grid_template_rows": null,
            "height": null,
            "justify_content": null,
            "justify_items": null,
            "left": null,
            "margin": null,
            "max_height": null,
            "max_width": null,
            "min_height": null,
            "min_width": null,
            "object_fit": null,
            "object_position": null,
            "order": null,
            "overflow": null,
            "overflow_x": null,
            "overflow_y": null,
            "padding": null,
            "right": null,
            "top": null,
            "visibility": null,
            "width": null
          }
        },
        "f2e791c3cbcd4caca149ac28cca88367": {
          "model_module": "@jupyter-widgets/base",
          "model_module_version": "1.2.0",
          "model_name": "LayoutModel",
          "state": {
            "_model_module": "@jupyter-widgets/base",
            "_model_module_version": "1.2.0",
            "_model_name": "LayoutModel",
            "_view_count": null,
            "_view_module": "@jupyter-widgets/base",
            "_view_module_version": "1.2.0",
            "_view_name": "LayoutView",
            "align_content": null,
            "align_items": null,
            "align_self": null,
            "border": null,
            "bottom": null,
            "display": null,
            "flex": null,
            "flex_flow": null,
            "grid_area": null,
            "grid_auto_columns": null,
            "grid_auto_flow": null,
            "grid_auto_rows": null,
            "grid_column": null,
            "grid_gap": null,
            "grid_row": null,
            "grid_template_areas": null,
            "grid_template_columns": null,
            "grid_template_rows": null,
            "height": null,
            "justify_content": null,
            "justify_items": null,
            "left": null,
            "margin": null,
            "max_height": null,
            "max_width": null,
            "min_height": null,
            "min_width": null,
            "object_fit": null,
            "object_position": null,
            "order": null,
            "overflow": null,
            "overflow_x": null,
            "overflow_y": null,
            "padding": null,
            "right": null,
            "top": null,
            "visibility": null,
            "width": null
          }
        },
        "fcee2a7b7b564f808d16bd17217f10be": {
          "model_module": "@jupyter-widgets/base",
          "model_module_version": "1.2.0",
          "model_name": "LayoutModel",
          "state": {
            "_model_module": "@jupyter-widgets/base",
            "_model_module_version": "1.2.0",
            "_model_name": "LayoutModel",
            "_view_count": null,
            "_view_module": "@jupyter-widgets/base",
            "_view_module_version": "1.2.0",
            "_view_name": "LayoutView",
            "align_content": null,
            "align_items": null,
            "align_self": null,
            "border": null,
            "bottom": null,
            "display": null,
            "flex": null,
            "flex_flow": null,
            "grid_area": null,
            "grid_auto_columns": null,
            "grid_auto_flow": null,
            "grid_auto_rows": null,
            "grid_column": null,
            "grid_gap": null,
            "grid_row": null,
            "grid_template_areas": null,
            "grid_template_columns": null,
            "grid_template_rows": null,
            "height": null,
            "justify_content": null,
            "justify_items": null,
            "left": null,
            "margin": null,
            "max_height": null,
            "max_width": null,
            "min_height": null,
            "min_width": null,
            "object_fit": null,
            "object_position": null,
            "order": null,
            "overflow": null,
            "overflow_x": null,
            "overflow_y": null,
            "padding": null,
            "right": null,
            "top": null,
            "visibility": null,
            "width": null
          }
        }
      }
    }
  },
  "nbformat": 4,
  "nbformat_minor": 0
}
